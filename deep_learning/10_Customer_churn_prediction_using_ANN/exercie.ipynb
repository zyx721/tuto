{
 "cells": [
  {
   "cell_type": "code",
   "execution_count": null,
   "id": "8fc7ce86-14de-4341-991a-89b6040db1df",
   "metadata": {},
   "outputs": [],
   "source": []
  }
 ],
 "metadata": {
  "kernelspec": {
   "display_name": "",
   "name": ""
  },
  "language_info": {
   "name": ""
  }
 },
 "nbformat": 4,
 "nbformat_minor": 5
}
